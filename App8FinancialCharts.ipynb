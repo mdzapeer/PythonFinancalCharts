{
 "cells": [
  {
   "cell_type": "code",
   "execution_count": 174,
   "metadata": {},
   "outputs": [
    {
     "name": "stderr",
     "output_type": "stream",
     "text": [
      "c:\\program files (x86)\\microsoft visual studio\\shared\\python36_64\\lib\\site-packages\\ipykernel_launcher.py:24: SettingWithCopyWarning: \n",
      "A value is trying to be set on a copy of a slice from a DataFrame.\n",
      "Try using .loc[row_indexer,col_indexer] = value instead\n",
      "\n",
      "See the caveats in the documentation: http://pandas.pydata.org/pandas-docs/stable/indexing.html#indexing-view-versus-copy\n"
     ]
    }
   ],
   "source": [
    "import pandas\n",
    "from alpha_vantage.cryptocurrencies import CryptoCurrencies\n",
    "from bokeh.plotting import figure, show , output_file\n",
    "\n",
    "cc = CryptoCurrencies(key='K53QQNRE6X9S2YCI', output_format='pandas')\n",
    "\n",
    "data, meta_data = cc.get_digital_currency_daily(symbol='BTC', market='USD')\n",
    "\n",
    "data[\"Date\"]=pandas.to_datetime(data.index)\n",
    "data1=data[-50:]\n",
    "\n",
    "p=figure(x_axis_type='datetime', width=1000, height=300)\n",
    "p.title.text=\"Candlestick Chart\"\n",
    "\n",
    "w = 12*60*60*1000 # half day in ms\n",
    "\n",
    "\n",
    "\n",
    "\n",
    "#df=pandas.read_json(\"https://www.alphavantage.co/query?function=DIGITAL_CURRENCY_WEEKLY&symbol=BTC&market=USD&apikey=K53QQNRE6X9S2YCI\", )\n",
    "\n",
    "\n",
    "\n",
    "data1[\"Date\"]=pandas.to_datetime(data1.index)\n",
    "\n",
    "increase=data1[\"4a. close (USD)\"] > data1[\"1a. open (USD)\"]\n",
    "decrease=data1[\"4a. close (USD)\"] < data1[\"1a. open (USD)\"]\n",
    "\n",
    "p.segment(data1.Date,data1[\"2b. high (USD)\"],data1.Date,data1[\"3b. low (USD)\"],color=\"black\")\n",
    "\n",
    "p.vbar(data1.Date[increase],w,data1[\"1a. open (USD)\"][increase],data1['4b. close (USD)'][increase],fill_color=\"green\", line_color=\"black\")\n",
    "p.vbar(data1.Date[decrease],w,data1[\"1a. open (USD)\"][decrease],data1['4b. close (USD)'][decrease],fill_color=\"red\", line_color=\"black\")\n",
    "\n",
    "output_file(\"test.html\", title=\"sampletest\")\n",
    "show(p)"
   ]
  },
  {
   "cell_type": "code",
   "execution_count": 15,
   "metadata": {},
   "outputs": [
    {
     "data": {
      "text/plain": [
       "{'1. Information': 'Intraday Prices and Volumes for Digital Currency',\n",
       " '2. Digital Currency Code': 'BTC',\n",
       " '3. Digital Currency Name': 'Bitcoin',\n",
       " '4. Market Code': 'USD',\n",
       " '5. Market Name': 'United States Dollar',\n",
       " '6. Interval': '5min',\n",
       " '7. Last Refreshed': '2018-05-25 17:05:00',\n",
       " '8. Time Zone': 'UTC'}"
      ]
     },
     "execution_count": 15,
     "metadata": {},
     "output_type": "execute_result"
    }
   ],
   "source": [
    "meta_data"
   ]
  },
  {
   "cell_type": "code",
   "execution_count": 161,
   "metadata": {},
   "outputs": [
    {
     "data": {
      "text/plain": [
       "date\n",
       "2018-04-05    6809.488991\n",
       "2018-04-07    6630.792262\n",
       "2018-04-08    6919.360393\n",
       "2018-04-10    6785.568747\n",
       "2018-04-11    6854.187668\n",
       "2018-04-12    6970.226323\n",
       "2018-04-14    7890.927678\n",
       "2018-04-15    8003.662359\n",
       "2018-04-18    7905.102656\n",
       "2018-04-19    8164.432545\n",
       "2018-04-20    8273.908040\n",
       "2018-04-21    8853.473837\n",
       "2018-04-23    8798.043937\n",
       "2018-04-24    8954.130776\n",
       "2018-04-26    8873.867055\n",
       "2018-04-28    8934.815648\n",
       "2018-04-29    9348.840026\n",
       "2018-05-02    9085.739778\n",
       "2018-05-03    9239.283171\n",
       "2018-05-05    9694.342840\n",
       "2018-05-09    9202.147092\n",
       "2018-05-12    8436.277903\n",
       "2018-05-13    8502.792280\n",
       "2018-05-18    8102.125758\n",
       "2018-05-19    8262.257770\n",
       "2018-05-20    8292.999105\n",
       "2018-05-24    7548.818868\n",
       "Name: 1a. open (USD), dtype: float64"
      ]
     },
     "execution_count": 161,
     "metadata": {},
     "output_type": "execute_result"
    }
   ],
   "source": [
    "data1['1a. open (USD)'][increase]"
   ]
  },
  {
   "cell_type": "code",
   "execution_count": 83,
   "metadata": {
    "scrolled": true
   },
   "outputs": [
    {
     "name": "stdout",
     "output_type": "stream",
     "text": [
      "Creating C:\\Users\\mohammad_s\\.bokeh directory\n",
      "Creating C:\\Users\\mohammad_s\\.bokeh\\data directory\n",
      "Using data directory: C:\\Users\\mohammad_s\\.bokeh\\data\n",
      "Downloading: CGM.csv (1589982 bytes)\n",
      "   1589982 [100.00%]\n",
      "Downloading: US_Counties.zip (3182088 bytes)\n",
      "   3182088 [100.00%]\n",
      "Unpacking: US_Counties.csv\n",
      "Downloading: us_cities.json (713565 bytes)\n",
      "    713565 [100.00%]\n",
      "Downloading: unemployment09.csv (253301 bytes)\n",
      "    253301 [100.00%]\n",
      "Downloading: AAPL.csv (166698 bytes)\n",
      "    166698 [100.00%]\n",
      "Downloading: FB.csv (9706 bytes)\n",
      "      9706 [100.00%]\n",
      "Downloading: GOOG.csv (113894 bytes)\n",
      "    113894 [100.00%]\n",
      "Downloading: IBM.csv (165625 bytes)\n",
      "    165625 [100.00%]\n",
      "Downloading: MSFT.csv (161614 bytes)\n",
      "    161614 [100.00%]\n",
      "Downloading: WPP2012_SA_DB03_POPULATION_QUINQUENNIAL.zip (5148539 bytes)\n",
      "   5148539 [100.00%]\n",
      "Unpacking: WPP2012_SA_DB03_POPULATION_QUINQUENNIAL.csv\n",
      "Downloading: gapminder_fertility.csv (64346 bytes)\n",
      "     64346 [100.00%]\n",
      "Downloading: gapminder_population.csv (94509 bytes)\n",
      "     94509 [100.00%]\n",
      "Downloading: gapminder_life_expectancy.csv (73243 bytes)\n",
      "     73243 [100.00%]\n",
      "Downloading: gapminder_regions.csv (7781 bytes)\n",
      "      7781 [100.00%]\n",
      "Downloading: world_cities.zip (646858 bytes)\n",
      "    646858 [100.00%]\n",
      "Unpacking: world_cities.csv\n",
      "Downloading: airports.json (6373 bytes)\n",
      "      6373 [100.00%]\n",
      "Downloading: movies.db.zip (5067833 bytes)\n",
      "   5067833 [100.00%]\n",
      "Unpacking: movies.db\n",
      "Downloading: airports.csv (203190 bytes)\n",
      "    203190 [100.00%]\n",
      "Downloading: routes.csv (377280 bytes)\n",
      "    377280 [100.00%]\n"
     ]
    }
   ],
   "source": [
    "import bokeh\n",
    "\n",
    "bokeh.sampledata.download()"
   ]
  },
  {
   "cell_type": "code",
   "execution_count": 87,
   "metadata": {},
   "outputs": [],
   "source": [
    "from bokeh.sampledata.stocks import MSFT\n",
    "\n",
    "df = pandas.DataFrame(MSFT)[:50]"
   ]
  },
  {
   "cell_type": "code",
   "execution_count": 122,
   "metadata": {},
   "outputs": [
    {
     "data": {
      "text/plain": [
       "0.7853981633974483"
      ]
     },
     "execution_count": 122,
     "metadata": {},
     "output_type": "execute_result"
    }
   ],
   "source": [
    "from math import pi\n",
    "pi/4"
   ]
  }
 ],
 "metadata": {
  "kernelspec": {
   "display_name": "Python 3",
   "language": "python",
   "name": "python3"
  },
  "language_info": {
   "codemirror_mode": {
    "name": "ipython",
    "version": 3
   },
   "file_extension": ".py",
   "mimetype": "text/x-python",
   "name": "python",
   "nbconvert_exporter": "python",
   "pygments_lexer": "ipython3",
   "version": "3.6.3"
  }
 },
 "nbformat": 4,
 "nbformat_minor": 2
}
